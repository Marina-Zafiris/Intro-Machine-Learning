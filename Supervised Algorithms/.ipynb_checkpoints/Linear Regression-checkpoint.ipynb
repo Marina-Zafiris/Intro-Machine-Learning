{
 "cells": [
  {
   "cell_type": "markdown",
   "metadata": {},
   "source": [
    "# Simple Linear Regression"
   ]
  },
  {
   "cell_type": "markdown",
   "metadata": {},
   "source": [
    "Regression loss functions establish a linear relationship between a dependent variable (Y) and one independent variable (X). So we are trying to fit the best line in space on these variables.\n",
    "\n",
    "These are best utilized when you have numerical/continous data, in this project we will be using the popular iris dataset.\n",
    "\n",
    "#### Loss Functions\n",
    "##### Mean Squared Error Loss\n",
    "\n",
    "MSE measures the average squared difference between the actual and predicted values by the model. The output is a single number associated with a set of values. \n",
    "Consider the slope intercept linear equation, $\\hat{y} = mx+b$. \n",
    "\n",
    "We derive MSE as:\n",
    "\n",
    "$ \\frac{1}{N}\\sum_{i=1}^{n}(y_{i}-\\hat{y}_{i})^{2} $"
   ]
  },
  {
   "cell_type": "code",
   "execution_count": 1,
   "metadata": {},
   "outputs": [],
   "source": [
    "import pandas as pd\n",
    "import numpy as np\n",
    "import matplotlib.pyplot as plt \n",
    "\n",
    "data = pd.read_csv('iris_data.csv')"
   ]
  },
  {
   "cell_type": "code",
   "execution_count": 6,
   "metadata": {},
   "outputs": [
    {
     "name": "stdout",
     "output_type": "stream",
     "text": [
      "Starting gradient descent at b = 0, m = 0, error = 9.51366666666666\n",
      "After 8000 iterations b = 0.18261305240425263, m = 0.4809585651681152, error = 0.3855490768966183\n"
     ]
    }
   ],
   "source": [
    "#Gradient descent algorithm for linear regression\n",
    "from numpy import *\n",
    "\n",
    "# sum of squared errors\n",
    "def error(b, m, points):\n",
    "    N = float(len(points))\n",
    "    error = 0\n",
    "    for i in range (0, len(points)):\n",
    "        x = points.iat[i, 0] #sepal length\n",
    "        y = points.iat[i, 1] #sepal width\n",
    "        error += (y-(m*x + b)) ** 2\n",
    "    return error/N\n",
    "\n",
    "#Gradient Decent\n",
    "def gradient(b_test, m_test, points, alpha):\n",
    "    b_grad = 0\n",
    "    m_grad = 0\n",
    "    N = float(len(points))\n",
    "    for i in range(0, len(points)):\n",
    "        x = points.iat[i, 0] #sepal length\n",
    "        y = points.iat[i, 1] #sepal width\n",
    "        b_grad += -(2/N) * (y - (m_test * x + b_test))\n",
    "        m_grad += -(2/N) * x * (y - (m_test * x + b_test))\n",
    "    new_b = b_test - (alpha * b_grad)\n",
    "    new_m = m_test - (alpha * m_grad)\n",
    "    return [new_b, new_m]\n",
    "\n",
    "def gradient_descent(points, start_b, start_m, alpha, num):\n",
    "    b = start_b\n",
    "    m = start_m\n",
    "    for i in range(num):\n",
    "        b,m = gradient(b, m, points, alpha)\n",
    "    return [b,m]\n",
    "\n",
    "\n",
    "points = data[['Sepal Length','Sepal Width']]\n",
    "alpha = 0.0001 #learning rate\n",
    "\n",
    "#y=mx+b\n",
    "start_b = 0 # initial y-intercept\n",
    "start_m = 0 # initial slope\n",
    "num = 8000 #number of iterations\n",
    "    \n",
    "print(\"Starting gradient descent at b = {0}, m = {1}, error = {2}\".format(start_b, start_m, error(start_b, start_m, points)))\n",
    "\n",
    "[b, m] = gradient_descent(points, start_b, start_m, alpha, num)\n",
    "\n",
    "print(\"After {0} iterations b = {1}, m = {2}, error = {3}\".format(num, b, m, error(b, m, points)))\n"
   ]
  },
  {
   "cell_type": "code",
   "execution_count": 3,
   "metadata": {},
   "outputs": [
    {
     "data": {
      "text/plain": [
       "0.15812567032479438"
      ]
     },
     "execution_count": 3,
     "metadata": {},
     "output_type": "execute_result"
    }
   ],
   "source": [
    "b"
   ]
  },
  {
   "cell_type": "code",
   "execution_count": 4,
   "metadata": {},
   "outputs": [
    {
     "data": {
      "text/plain": [
       "0.48506950255568454"
      ]
     },
     "execution_count": 4,
     "metadata": {},
     "output_type": "execute_result"
    }
   ],
   "source": [
    "m"
   ]
  },
  {
   "cell_type": "code",
   "execution_count": 5,
   "metadata": {},
   "outputs": [
    {
     "data": {
      "text/plain": [
       "<Figure size 432x288 with 0 Axes>"
      ]
     },
     "metadata": {},
     "output_type": "display_data"
    },
    {
     "data": {
      "image/png": "[encoded data removed]",
      "text/plain": [
       "<Figure size 720x576 with 1 Axes>"
      ]
     },
     "metadata": {
      "needs_background": "light"
     },
     "output_type": "display_data"
    }
   ],
   "source": [
    "# Scatter Plot\n",
    "x = points['Sepal Length']\n",
    "y = points['Sepal Width']\n",
    "y_hat = m*x+b\n",
    "\n",
    "plt.figure()\n",
    "plt.figure(figsize =(10, 8)) \n",
    "plt.scatter(x, y, color = 'k', alpha=0.5)\n",
    "plt.plot(x, y_hat,'k-', color = 'r')\n",
    "plt.show()"
   ]
  },
  {
   "cell_type": "code",
   "execution_count": null,
   "metadata": {},
   "outputs": [],
   "source": []
  }
 ],
 "metadata": {
  "kernelspec": {
   "display_name": "Python 3",
   "language": "python",
   "name": "python3"
  },
  "language_info": {
   "codemirror_mode": {
    "name": "ipython",
    "version": 3
   },
   "file_extension": ".py",
   "mimetype": "text/x-python",
   "name": "python",
   "nbconvert_exporter": "python",
   "pygments_lexer": "ipython3",
   "version": "3.7.3"
  }
 },
 "nbformat": 4,
 "nbformat_minor": 2
}
